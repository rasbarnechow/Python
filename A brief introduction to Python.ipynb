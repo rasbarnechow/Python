{
 "cells": [
  {
   "cell_type": "markdown",
   "metadata": {},
   "source": [
    "# An introduction to Python"
   ]
  },
  {
   "cell_type": "markdown",
   "metadata": {},
   "source": [
    "#### A short introduction to Jupyter notebook"
   ]
  },
  {
   "cell_type": "markdown",
   "metadata": {},
   "source": [
    "Welcome to the notebook. Here you can write Python code and see the result of your code!\n",
    "Below you can see an empty \"block\". Here you can write code. Once you have typed the code, you can simply select the block and press shift + enter. Then your code runs.\n",
    "You can create this block of text that you are reading right now by pressing the dropdown menu just above (code, markdown, etc.). If you select \"markdown\" then everything in the block becomes text when you run the block. If you select \"code\" it will run as code.\n",
    "\n",
    "Install packages via pip install nameofpackage in the environment"
   ]
  },
  {
   "cell_type": "code",
   "execution_count": 1,
   "metadata": {},
   "outputs": [
    {
     "data": {
      "text/plain": [
       "4"
      ]
     },
     "execution_count": 1,
     "metadata": {},
     "output_type": "execute_result"
    }
   ],
   "source": [
    "# Below is a simple calculation\n",
    "2+2"
   ]
  },
  {
   "cell_type": "code",
   "execution_count": 2,
   "metadata": {},
   "outputs": [
    {
     "name": "stdout",
     "output_type": "stream",
     "text": [
      "4\n",
      "You look nice today!\n"
     ]
    }
   ],
   "source": [
    "# Comments are made by using \"#\" as the first element of a line\n",
    "\n",
    "# What we write inside brackets are printed\n",
    "print(2+2)\n",
    "\n",
    "# We can also write text inside the brackets. Remember that text is written in \"\"\n",
    "print(\"You look nice today!\")"
   ]
  },
  {
   "cell_type": "markdown",
   "metadata": {},
   "source": [
    "# Data structures"
   ]
  },
  {
   "cell_type": "markdown",
   "metadata": {},
   "source": [
    "## variables"
   ]
  },
  {
   "cell_type": "code",
   "execution_count": 3,
   "metadata": {},
   "outputs": [],
   "source": [
    "#Variables\n",
    "#assigned variables\n",
    "a=5\n",
    "b=2\n",
    "c='Python is hard but fun'"
   ]
  },
  {
   "cell_type": "code",
   "execution_count": 4,
   "metadata": {},
   "outputs": [
    {
     "name": "stdout",
     "output_type": "stream",
     "text": [
      "5\n"
     ]
    }
   ],
   "source": [
    "print(a)"
   ]
  },
  {
   "cell_type": "code",
   "execution_count": 5,
   "metadata": {},
   "outputs": [
    {
     "name": "stdout",
     "output_type": "stream",
     "text": [
      "10\n",
      "2.5\n"
     ]
    }
   ],
   "source": [
    "print(a*b)\n",
    "print(a/b)"
   ]
  },
  {
   "cell_type": "code",
   "execution_count": 6,
   "metadata": {},
   "outputs": [
    {
     "name": "stdout",
     "output_type": "stream",
     "text": [
      "Python is hard but fun\n"
     ]
    }
   ],
   "source": [
    "print(c)"
   ]
  },
  {
   "cell_type": "markdown",
   "metadata": {},
   "source": [
    "## Lists"
   ]
  },
  {
   "cell_type": "code",
   "execution_count": 7,
   "metadata": {},
   "outputs": [],
   "source": [
    "numbers_in_list = [1,2,5,8,'Simon']"
   ]
  },
  {
   "cell_type": "code",
   "execution_count": 8,
   "metadata": {},
   "outputs": [
    {
     "data": {
      "text/plain": [
       "'Simon'"
      ]
     },
     "execution_count": 8,
     "metadata": {},
     "output_type": "execute_result"
    }
   ],
   "source": [
    "#remember it goes from 0,1,2,3 when navigating the list\n",
    "numbers_in_list[4] #gets the fourth element"
   ]
  },
  {
   "cell_type": "markdown",
   "metadata": {},
   "source": [
    "## Dictionaries"
   ]
  },
  {
   "cell_type": "code",
   "execution_count": 9,
   "metadata": {},
   "outputs": [
    {
     "name": "stdout",
     "output_type": "stream",
     "text": [
      "{'Rasmus': 31, 'Anna': 31, 'peter': 99}\n"
     ]
    }
   ],
   "source": [
    "#with curly brackets and a key  value pair\n",
    "people =  {'Rasmus': 31,\n",
    "          'Anna': 31,\n",
    "          'peter': 99}\n",
    "print(people)"
   ]
  },
  {
   "cell_type": "code",
   "execution_count": 10,
   "metadata": {},
   "outputs": [
    {
     "data": {
      "text/plain": [
       "dict_keys(['Rasmus', 'Anna', 'peter'])"
      ]
     },
     "execution_count": 10,
     "metadata": {},
     "output_type": "execute_result"
    }
   ],
   "source": [
    "#apply different methods to these variables using a \".\"\n",
    "people.keys() "
   ]
  },
  {
   "cell_type": "code",
   "execution_count": 11,
   "metadata": {},
   "outputs": [
    {
     "data": {
      "text/plain": [
       "dict_values([31, 31, 99])"
      ]
     },
     "execution_count": 11,
     "metadata": {},
     "output_type": "execute_result"
    }
   ],
   "source": [
    "people.values()"
   ]
  },
  {
   "cell_type": "code",
   "execution_count": 12,
   "metadata": {},
   "outputs": [
    {
     "name": "stdout",
     "output_type": "stream",
     "text": [
      "2\n",
      "Hello World\n",
      "2\n"
     ]
    }
   ],
   "source": [
    "# Example of a number (Integer)\n",
    "print(2)\n",
    "\n",
    "# Example of text (String)\n",
    "print(\"Hello World\")\n",
    "\n",
    "# Example of a number as text (String)\n",
    "print(\"2\")  "
   ]
  },
  {
   "cell_type": "markdown",
   "metadata": {},
   "source": [
    "# Packages"
   ]
  },
  {
   "cell_type": "code",
   "execution_count": 125,
   "metadata": {},
   "outputs": [],
   "source": [
    "import numpy as np\n",
    "import pandas as pd\n",
    "#lot of functions comes built in with the packages"
   ]
  },
  {
   "cell_type": "code",
   "execution_count": 14,
   "metadata": {},
   "outputs": [],
   "source": [
    "numbers_in_list=[1,5,6,7]\n",
    "#numpy arrapy\n",
    "numpy_array=np.array([1,5,6,7])"
   ]
  },
  {
   "cell_type": "code",
   "execution_count": 23,
   "metadata": {},
   "outputs": [
    {
     "name": "stdout",
     "output_type": "stream",
     "text": [
      "[1, 5, 6, 7, 1, 5, 6, 7]\n",
      "[ 4 20 24 28]\n"
     ]
    }
   ],
   "source": [
    "print(numbers_in_list*2)\n",
    "print(numpy_array*4)"
   ]
  },
  {
   "cell_type": "markdown",
   "metadata": {},
   "source": [
    "# Computations"
   ]
  },
  {
   "cell_type": "code",
   "execution_count": 29,
   "metadata": {},
   "outputs": [
    {
     "name": "stdout",
     "output_type": "stream",
     "text": [
      "49.0\n",
      "20\n",
      "90\n",
      "50.0\n"
     ]
    }
   ],
   "source": [
    "#Defining a variable with age of different people\n",
    "employees_age=np.array([20,35,50,90,50 ])\n",
    "#average employees age using np.mean function\n",
    "print(np.mean(employees_age))\n",
    "#min\n",
    "print(np.min(employees_age))\n",
    "#max\n",
    "print(np.max(employees_age))\n",
    "#median\n",
    "print(np.median(employees_age))"
   ]
  },
  {
   "cell_type": "code",
   "execution_count": 35,
   "metadata": {},
   "outputs": [],
   "source": [
    "#a list with strings \n",
    "colors = [\"blue\", \"yellow\", \"green\", \"blue\", \"yellow\"]"
   ]
  },
  {
   "cell_type": "code",
   "execution_count": 36,
   "metadata": {},
   "outputs": [
    {
     "name": "stdout",
     "output_type": "stream",
     "text": [
      "Counter({'blue': 2, 'yellow': 2, 'green': 1})\n"
     ]
    }
   ],
   "source": [
    "from collections import Counter # importing a function from numpy package\n",
    "print(Counter(colors))"
   ]
  },
  {
   "cell_type": "code",
   "execution_count": null,
   "metadata": {},
   "outputs": [],
   "source": []
  },
  {
   "cell_type": "markdown",
   "metadata": {},
   "source": [
    "\n"
   ]
  },
  {
   "cell_type": "code",
   "execution_count": null,
   "metadata": {},
   "outputs": [],
   "source": []
  },
  {
   "cell_type": "code",
   "execution_count": null,
   "metadata": {},
   "outputs": [],
   "source": []
  },
  {
   "cell_type": "markdown",
   "metadata": {},
   "source": [
    "# Types"
   ]
  },
  {
   "cell_type": "code",
   "execution_count": 30,
   "metadata": {},
   "outputs": [
    {
     "data": {
      "text/plain": [
       "list"
      ]
     },
     "execution_count": 30,
     "metadata": {},
     "output_type": "execute_result"
    }
   ],
   "source": [
    "#check for errors and troubleshooting  \n",
    "type(numpy_array)\n",
    "\n",
    "type(numbers_in_list)"
   ]
  },
  {
   "cell_type": "code",
   "execution_count": null,
   "metadata": {},
   "outputs": [],
   "source": []
  },
  {
   "cell_type": "markdown",
   "metadata": {},
   "source": [
    "# Loops"
   ]
  },
  {
   "cell_type": "code",
   "execution_count": 40,
   "metadata": {},
   "outputs": [
    {
     "name": "stdout",
     "output_type": "stream",
     "text": [
      "Python\n",
      "is\n",
      "a\n",
      "lot\n",
      "of\n",
      "fun\n"
     ]
    }
   ],
   "source": [
    "#evaluate everything inside our dataset - what loops do\n",
    "list = [\"Python\", \"is\", \"a\", \"lot\", \"of\", \"fun\"]\n",
    "\n",
    "for i in list:\n",
    "    print(i)"
   ]
  },
  {
   "cell_type": "code",
   "execution_count": 48,
   "metadata": {},
   "outputs": [
    {
     "name": "stdout",
     "output_type": "stream",
     "text": [
      "awesome\n"
     ]
    }
   ],
   "source": [
    "#for loop and while loop\n",
    "Larsens_list = [\"Python\", \"is\", \"awesome\", \"for\", \"data science\"]\n",
    "print(Larsens_list[2])"
   ]
  },
  {
   "cell_type": "code",
   "execution_count": 57,
   "metadata": {},
   "outputs": [
    {
     "name": "stdout",
     "output_type": "stream",
     "text": [
      "Python\n",
      "is\n",
      "awesome\n",
      "for\n",
      "data science\n"
     ]
    }
   ],
   "source": [
    "#for elements in larsens list do something\n",
    "for i in Larsens_list:\n",
    "    print(i)\n",
    "    "
   ]
  },
  {
   "cell_type": "code",
   "execution_count": 65,
   "metadata": {},
   "outputs": [
    {
     "name": "stdout",
     "output_type": "stream",
     "text": [
      "40\n",
      "70\n",
      "100\n",
      "180\n",
      "100\n"
     ]
    }
   ],
   "source": [
    "#multiplying every element in the list\n",
    "for i in employees_age:\n",
    "    print(i*2)"
   ]
  },
  {
   "cell_type": "code",
   "execution_count": 67,
   "metadata": {},
   "outputs": [
    {
     "name": "stdout",
     "output_type": "stream",
     "text": [
      "70\n",
      "100\n",
      "180\n",
      "100\n"
     ]
    }
   ],
   "source": [
    "#inside the loop we test if something is true. It only prints if the condition is true\n",
    "for i in employees_age:\n",
    "    if i > 30:\n",
    "        print(i*2)\n",
    "        \n",
    "    "
   ]
  },
  {
   "cell_type": "code",
   "execution_count": 68,
   "metadata": {},
   "outputs": [
    {
     "name": "stdout",
     "output_type": "stream",
     "text": [
      "20\n",
      "70\n",
      "100\n",
      "180\n",
      "100\n"
     ]
    }
   ],
   "source": [
    "for i in employees_age:\n",
    "    if i > 30:\n",
    "        print(i*2)\n",
    "    else:\n",
    "        print(i)"
   ]
  },
  {
   "cell_type": "markdown",
   "metadata": {},
   "source": [
    "# Functions"
   ]
  },
  {
   "cell_type": "code",
   "execution_count": 73,
   "metadata": {},
   "outputs": [],
   "source": [
    "def my_function(input):\n",
    "    output=input+100\n",
    "    return output"
   ]
  },
  {
   "cell_type": "code",
   "execution_count": 74,
   "metadata": {},
   "outputs": [
    {
     "data": {
      "text/plain": [
       "102"
      ]
     },
     "execution_count": 74,
     "metadata": {},
     "output_type": "execute_result"
    }
   ],
   "source": [
    "#function with input2\n",
    "my_function(2)"
   ]
  },
  {
   "cell_type": "code",
   "execution_count": 77,
   "metadata": {},
   "outputs": [
    {
     "name": "stdout",
     "output_type": "stream",
     "text": [
      "120\n",
      "135\n",
      "150\n",
      "190\n",
      "150\n"
     ]
    }
   ],
   "source": [
    "for i in employees_age:\n",
    "    print(my_function(i))"
   ]
  },
  {
   "cell_type": "code",
   "execution_count": 88,
   "metadata": {},
   "outputs": [
    {
     "name": "stdout",
     "output_type": "stream",
     "text": [
      "Help on built-in function len in module builtins:\n",
      "\n",
      "len(obj, /)\n",
      "    Return the number of items in a container.\n",
      "\n"
     ]
    }
   ],
   "source": [
    "def function(x):\n",
    "    print(np.sum(x)/len(x))\n",
    "\n",
    "#what does it do? csums all values in x and len takes the number in the variable, \n",
    "#hence computes the average \n",
    "help(len)"
   ]
  },
  {
   "cell_type": "code",
   "execution_count": 89,
   "metadata": {},
   "outputs": [
    {
     "name": "stdout",
     "output_type": "stream",
     "text": [
      "8.125\n"
     ]
    }
   ],
   "source": [
    "number_list=[1,3,6,7,8,9,15,16]\n",
    "\n",
    "function(number_list)"
   ]
  },
  {
   "cell_type": "markdown",
   "metadata": {},
   "source": [
    "# Pandas - data structure in python"
   ]
  },
  {
   "cell_type": "code",
   "execution_count": 122,
   "metadata": {},
   "outputs": [],
   "source": [
    "import pandas as pd "
   ]
  },
  {
   "cell_type": "code",
   "execution_count": 98,
   "metadata": {},
   "outputs": [],
   "source": [
    "sales_data = pd.read_excel(\"./data/superstore.xlsx\") \n",
    "#a dot (.) for current directory"
   ]
  },
  {
   "cell_type": "code",
   "execution_count": 99,
   "metadata": {
    "scrolled": true
   },
   "outputs": [
    {
     "data": {
      "text/html": [
       "<div>\n",
       "<style scoped>\n",
       "    .dataframe tbody tr th:only-of-type {\n",
       "        vertical-align: middle;\n",
       "    }\n",
       "\n",
       "    .dataframe tbody tr th {\n",
       "        vertical-align: top;\n",
       "    }\n",
       "\n",
       "    .dataframe thead th {\n",
       "        text-align: right;\n",
       "    }\n",
       "</style>\n",
       "<table border=\"1\" class=\"dataframe\">\n",
       "  <thead>\n",
       "    <tr style=\"text-align: right;\">\n",
       "      <th></th>\n",
       "      <th>Order ID</th>\n",
       "      <th>Customer Name</th>\n",
       "      <th>Category</th>\n",
       "      <th>Sub-Category</th>\n",
       "      <th>Product Name</th>\n",
       "      <th>Quantity</th>\n",
       "      <th>Sales</th>\n",
       "      <th>Profit</th>\n",
       "      <th>Discount</th>\n",
       "      <th>Segment</th>\n",
       "      <th>Country/Region</th>\n",
       "      <th>City</th>\n",
       "      <th>State</th>\n",
       "      <th>Ship Mode</th>\n",
       "      <th>Order Date</th>\n",
       "      <th>Ship Date</th>\n",
       "    </tr>\n",
       "  </thead>\n",
       "  <tbody>\n",
       "    <tr>\n",
       "      <th>0</th>\n",
       "      <td>CA-2018-152156</td>\n",
       "      <td>Claire Gute</td>\n",
       "      <td>Furniture</td>\n",
       "      <td>Bookcases</td>\n",
       "      <td>Bush Somerset Collection Bookcase</td>\n",
       "      <td>2</td>\n",
       "      <td>261.9600</td>\n",
       "      <td>41.9136</td>\n",
       "      <td>0.00</td>\n",
       "      <td>Consumer</td>\n",
       "      <td>United States</td>\n",
       "      <td>Henderson</td>\n",
       "      <td>Kentucky</td>\n",
       "      <td>Second Class</td>\n",
       "      <td>2018-11-08</td>\n",
       "      <td>2018-11-11</td>\n",
       "    </tr>\n",
       "    <tr>\n",
       "      <th>1</th>\n",
       "      <td>CA-2018-152156</td>\n",
       "      <td>Claire Gute</td>\n",
       "      <td>Furniture</td>\n",
       "      <td>Chairs</td>\n",
       "      <td>Hon Deluxe Fabric Upholstered Stacking Chairs,...</td>\n",
       "      <td>3</td>\n",
       "      <td>731.9400</td>\n",
       "      <td>219.5820</td>\n",
       "      <td>0.00</td>\n",
       "      <td>Consumer</td>\n",
       "      <td>United States</td>\n",
       "      <td>Henderson</td>\n",
       "      <td>Kentucky</td>\n",
       "      <td>Second Class</td>\n",
       "      <td>2018-11-08</td>\n",
       "      <td>2018-11-11</td>\n",
       "    </tr>\n",
       "    <tr>\n",
       "      <th>2</th>\n",
       "      <td>CA-2018-138688</td>\n",
       "      <td>Darrin Van Huff</td>\n",
       "      <td>Office Supplies</td>\n",
       "      <td>Labels</td>\n",
       "      <td>Self-Adhesive Address Labels for Typewriters b...</td>\n",
       "      <td>2</td>\n",
       "      <td>14.6200</td>\n",
       "      <td>6.8714</td>\n",
       "      <td>0.00</td>\n",
       "      <td>Corporate</td>\n",
       "      <td>United States</td>\n",
       "      <td>Los Angeles</td>\n",
       "      <td>California</td>\n",
       "      <td>Second Class</td>\n",
       "      <td>2018-06-12</td>\n",
       "      <td>2018-06-16</td>\n",
       "    </tr>\n",
       "    <tr>\n",
       "      <th>3</th>\n",
       "      <td>US-2017-108966</td>\n",
       "      <td>Sean O'Donnell</td>\n",
       "      <td>Furniture</td>\n",
       "      <td>Tables</td>\n",
       "      <td>Bretford CR4500 Series Slim Rectangular Table</td>\n",
       "      <td>5</td>\n",
       "      <td>957.5775</td>\n",
       "      <td>-383.0310</td>\n",
       "      <td>0.45</td>\n",
       "      <td>Consumer</td>\n",
       "      <td>United States</td>\n",
       "      <td>Fort Lauderdale</td>\n",
       "      <td>Florida</td>\n",
       "      <td>Standard Class</td>\n",
       "      <td>2017-10-11</td>\n",
       "      <td>2017-10-18</td>\n",
       "    </tr>\n",
       "    <tr>\n",
       "      <th>4</th>\n",
       "      <td>US-2017-108966</td>\n",
       "      <td>Sean O'Donnell</td>\n",
       "      <td>Office Supplies</td>\n",
       "      <td>Storage</td>\n",
       "      <td>Eldon Fold 'N Roll Cart System</td>\n",
       "      <td>2</td>\n",
       "      <td>22.3680</td>\n",
       "      <td>2.5164</td>\n",
       "      <td>0.20</td>\n",
       "      <td>Consumer</td>\n",
       "      <td>United States</td>\n",
       "      <td>Fort Lauderdale</td>\n",
       "      <td>Florida</td>\n",
       "      <td>Standard Class</td>\n",
       "      <td>2017-10-11</td>\n",
       "      <td>2017-10-18</td>\n",
       "    </tr>\n",
       "  </tbody>\n",
       "</table>\n",
       "</div>"
      ],
      "text/plain": [
       "         Order ID    Customer Name         Category Sub-Category  \\\n",
       "0  CA-2018-152156      Claire Gute        Furniture    Bookcases   \n",
       "1  CA-2018-152156      Claire Gute        Furniture       Chairs   \n",
       "2  CA-2018-138688  Darrin Van Huff  Office Supplies       Labels   \n",
       "3  US-2017-108966   Sean O'Donnell        Furniture       Tables   \n",
       "4  US-2017-108966   Sean O'Donnell  Office Supplies      Storage   \n",
       "\n",
       "                                        Product Name  Quantity     Sales  \\\n",
       "0                  Bush Somerset Collection Bookcase         2  261.9600   \n",
       "1  Hon Deluxe Fabric Upholstered Stacking Chairs,...         3  731.9400   \n",
       "2  Self-Adhesive Address Labels for Typewriters b...         2   14.6200   \n",
       "3      Bretford CR4500 Series Slim Rectangular Table         5  957.5775   \n",
       "4                     Eldon Fold 'N Roll Cart System         2   22.3680   \n",
       "\n",
       "     Profit  Discount    Segment Country/Region             City       State  \\\n",
       "0   41.9136      0.00   Consumer  United States        Henderson    Kentucky   \n",
       "1  219.5820      0.00   Consumer  United States        Henderson    Kentucky   \n",
       "2    6.8714      0.00  Corporate  United States      Los Angeles  California   \n",
       "3 -383.0310      0.45   Consumer  United States  Fort Lauderdale     Florida   \n",
       "4    2.5164      0.20   Consumer  United States  Fort Lauderdale     Florida   \n",
       "\n",
       "        Ship Mode Order Date  Ship Date  \n",
       "0    Second Class 2018-11-08 2018-11-11  \n",
       "1    Second Class 2018-11-08 2018-11-11  \n",
       "2    Second Class 2018-06-12 2018-06-16  \n",
       "3  Standard Class 2017-10-11 2017-10-18  \n",
       "4  Standard Class 2017-10-11 2017-10-18  "
      ]
     },
     "execution_count": 99,
     "metadata": {},
     "output_type": "execute_result"
    }
   ],
   "source": [
    "sales_data.head()"
   ]
  },
  {
   "cell_type": "code",
   "execution_count": 100,
   "metadata": {},
   "outputs": [
    {
     "data": {
      "text/plain": [
       "pandas.core.frame.DataFrame"
      ]
     },
     "execution_count": 100,
     "metadata": {},
     "output_type": "execute_result"
    }
   ],
   "source": [
    "type(sales_data)"
   ]
  },
  {
   "cell_type": "code",
   "execution_count": 106,
   "metadata": {},
   "outputs": [],
   "source": [
    "pd.set_option('display.max_rows', 100)"
   ]
  },
  {
   "cell_type": "code",
   "execution_count": null,
   "metadata": {},
   "outputs": [],
   "source": []
  },
  {
   "cell_type": "code",
   "execution_count": 104,
   "metadata": {},
   "outputs": [
    {
     "name": "stdout",
     "output_type": "stream",
     "text": [
      "Avg sales is 229.85800083049833 USD\n"
     ]
    }
   ],
   "source": [
    "#Average sales amount \n",
    "print(\"Avg sales is\" ,np.mean(sales_data['Sales']), \"USD\")"
   ]
  },
  {
   "cell_type": "code",
   "execution_count": 105,
   "metadata": {},
   "outputs": [
    {
     "data": {
      "text/plain": [
       "Counter({'Furniture': 2121, 'Office Supplies': 6026, 'Technology': 1847})"
      ]
     },
     "execution_count": 105,
     "metadata": {},
     "output_type": "execute_result"
    }
   ],
   "source": [
    "Counter(sales_data['Category'])"
   ]
  },
  {
   "cell_type": "code",
   "execution_count": 108,
   "metadata": {},
   "outputs": [
    {
     "name": "stdout",
     "output_type": "stream",
     "text": [
      "Claire Gute\n",
      "Claire Gute\n",
      "Darrin Van Huff\n",
      "Sean O'Donnell\n",
      "Sean O'Donnell\n"
     ]
    }
   ],
   "source": [
    "for i in sales_data['Customer Name'].head():\n",
    "    print(i)"
   ]
  },
  {
   "cell_type": "markdown",
   "metadata": {},
   "source": [
    "# Exercise Pandas and numpy"
   ]
  },
  {
   "cell_type": "code",
   "execution_count": 110,
   "metadata": {},
   "outputs": [
    {
     "name": "stdout",
     "output_type": "stream",
     "text": [
      "8399.976\n"
     ]
    },
    {
     "data": {
      "text/html": [
       "<div>\n",
       "<style scoped>\n",
       "    .dataframe tbody tr th:only-of-type {\n",
       "        vertical-align: middle;\n",
       "    }\n",
       "\n",
       "    .dataframe tbody tr th {\n",
       "        vertical-align: top;\n",
       "    }\n",
       "\n",
       "    .dataframe thead th {\n",
       "        text-align: right;\n",
       "    }\n",
       "</style>\n",
       "<table border=\"1\" class=\"dataframe\">\n",
       "  <thead>\n",
       "    <tr style=\"text-align: right;\">\n",
       "      <th></th>\n",
       "      <th>Order ID</th>\n",
       "      <th>Customer Name</th>\n",
       "      <th>Category</th>\n",
       "      <th>Sub-Category</th>\n",
       "      <th>Product Name</th>\n",
       "      <th>Quantity</th>\n",
       "      <th>Sales</th>\n",
       "      <th>Profit</th>\n",
       "      <th>Discount</th>\n",
       "      <th>Segment</th>\n",
       "      <th>Country/Region</th>\n",
       "      <th>City</th>\n",
       "      <th>State</th>\n",
       "      <th>Ship Mode</th>\n",
       "      <th>Order Date</th>\n",
       "      <th>Ship Date</th>\n",
       "    </tr>\n",
       "  </thead>\n",
       "  <tbody>\n",
       "    <tr>\n",
       "      <th>6826</th>\n",
       "      <td>CA-2018-118689</td>\n",
       "      <td>Tamara Chand</td>\n",
       "      <td>Technology</td>\n",
       "      <td>Copiers</td>\n",
       "      <td>Canon imageCLASS 2200 Advanced Copier</td>\n",
       "      <td>5</td>\n",
       "      <td>17499.95</td>\n",
       "      <td>8399.976</td>\n",
       "      <td>0.0</td>\n",
       "      <td>Corporate</td>\n",
       "      <td>United States</td>\n",
       "      <td>Lafayette</td>\n",
       "      <td>Indiana</td>\n",
       "      <td>Standard Class</td>\n",
       "      <td>2018-10-02</td>\n",
       "      <td>2018-10-09</td>\n",
       "    </tr>\n",
       "  </tbody>\n",
       "</table>\n",
       "</div>"
      ],
      "text/plain": [
       "            Order ID Customer Name    Category Sub-Category  \\\n",
       "6826  CA-2018-118689  Tamara Chand  Technology      Copiers   \n",
       "\n",
       "                               Product Name  Quantity     Sales    Profit  \\\n",
       "6826  Canon imageCLASS 2200 Advanced Copier         5  17499.95  8399.976   \n",
       "\n",
       "      Discount    Segment Country/Region       City    State       Ship Mode  \\\n",
       "6826       0.0  Corporate  United States  Lafayette  Indiana  Standard Class   \n",
       "\n",
       "     Order Date  Ship Date  \n",
       "6826 2018-10-02 2018-10-09  "
      ]
     },
     "execution_count": 110,
     "metadata": {},
     "output_type": "execute_result"
    }
   ],
   "source": [
    "#What was the profit of the purchase with the highest profit\n",
    "# Hint: Search google for what features numpy / pandas have (max?)\n",
    "print(np.max(sales_data[\"Profit\"]))  #highest profit purchase = 8399\n",
    "\n",
    "sales_data[sales_data['Profit']==sales_data['Profit'].max()]  # which order id had the highest profit"
   ]
  },
  {
   "cell_type": "code",
   "execution_count": 127,
   "metadata": {},
   "outputs": [
    {
     "name": "stdout",
     "output_type": "stream",
     "text": [
      "Counter({'Consumer': 5191, 'Corporate': 3020, 'Home Office': 1783})\n"
     ]
    }
   ],
   "source": [
    "#How many invoice lines is there within each segment?\n",
    "print(Counter(sales_data[\"Segment\"]))"
   ]
  },
  {
   "cell_type": "code",
   "execution_count": 128,
   "metadata": {},
   "outputs": [
    {
     "name": "stdout",
     "output_type": "stream",
     "text": [
      "0.12467217240315603\n"
     ]
    }
   ],
   "source": [
    "#Calculate the overall profit ratio of the dataset (Profit ratio = Profit / Sales)\n",
    "          \n",
    "print(np.sum(sales_data['Profit'])/np.sum(sales_data['Sales']))"
   ]
  },
  {
   "cell_type": "code",
   "execution_count": 132,
   "metadata": {},
   "outputs": [
    {
     "name": "stdout",
     "output_type": "stream",
     "text": [
      "1049.9964133304004\n"
     ]
    }
   ],
   "source": [
    "#Calculate the combined profit ratio of the last 2 records of the dataset (Profit ratio = Profit / Sales)\n",
    "         \n",
    "print(np.sum(sales_data['Profit'])/np.sum(sales_data['Sales'].tail(2)))"
   ]
  },
  {
   "cell_type": "code",
   "execution_count": 148,
   "metadata": {},
   "outputs": [
    {
     "data": {
      "text/plain": [
       "Sub-Category\n",
       "Accessories     215.974604\n",
       "Appliances      230.755710\n",
       "Art              34.068834\n",
       "Binders         133.560560\n",
       "Bookcases       503.859633\n",
       "Chairs          532.332420\n",
       "Copiers        2198.941618\n",
       "Envelopes        64.867724\n",
       "Fasteners        13.936774\n",
       "Furnishings      95.825668\n",
       "Labels           34.303055\n",
       "Machines       1645.553313\n",
       "Paper            57.284092\n",
       "Phones          371.211534\n",
       "Storage         264.590553\n",
       "Supplies        245.650200\n",
       "Tables          648.794771\n",
       "Name: Sales, dtype: float64"
      ]
     },
     "execution_count": 148,
     "metadata": {},
     "output_type": "execute_result"
    }
   ],
   "source": [
    "#Calculate the average sales of each sub-category (using groupby)\n",
    "sales_data.groupby('Sub-Category')['Sales'].mean()\n"
   ]
  },
  {
   "cell_type": "code",
   "execution_count": 149,
   "metadata": {},
   "outputs": [
    {
     "data": {
      "text/plain": [
       "Sub-Category\n",
       "Accessories     215.974604\n",
       "Appliances      230.755710\n",
       "Art              34.068834\n",
       "Binders         133.560560\n",
       "Bookcases       503.859633\n",
       "Chairs          532.332420\n",
       "Copiers        2198.941618\n",
       "Envelopes        64.867724\n",
       "Fasteners        13.936774\n",
       "Furnishings      95.825668\n",
       "Labels           34.303055\n",
       "Machines       1645.553313\n",
       "Paper            57.284092\n",
       "Phones          371.211534\n",
       "Storage         264.590553\n",
       "Supplies        245.650200\n",
       "Tables          648.794771\n",
       "Name: Sales, dtype: float64"
      ]
     },
     "execution_count": 149,
     "metadata": {},
     "output_type": "execute_result"
    }
   ],
   "source": [
    "sales_data.groupby('Sub-Category').Sales.mean()"
   ]
  },
  {
   "cell_type": "code",
   "execution_count": 145,
   "metadata": {},
   "outputs": [
    {
     "data": {
      "text/html": [
       "<div>\n",
       "<style scoped>\n",
       "    .dataframe tbody tr th:only-of-type {\n",
       "        vertical-align: middle;\n",
       "    }\n",
       "\n",
       "    .dataframe tbody tr th {\n",
       "        vertical-align: top;\n",
       "    }\n",
       "\n",
       "    .dataframe thead th {\n",
       "        text-align: right;\n",
       "    }\n",
       "</style>\n",
       "<table border=\"1\" class=\"dataframe\">\n",
       "  <thead>\n",
       "    <tr style=\"text-align: right;\">\n",
       "      <th></th>\n",
       "      <th>Quantity</th>\n",
       "      <th>Sales</th>\n",
       "      <th>Profit</th>\n",
       "      <th>Discount</th>\n",
       "    </tr>\n",
       "    <tr>\n",
       "      <th>Sub-Category</th>\n",
       "      <th></th>\n",
       "      <th></th>\n",
       "      <th></th>\n",
       "      <th></th>\n",
       "    </tr>\n",
       "  </thead>\n",
       "  <tbody>\n",
       "    <tr>\n",
       "      <th>Accessories</th>\n",
       "      <td>3.840000</td>\n",
       "      <td>215.974604</td>\n",
       "      <td>54.111788</td>\n",
       "      <td>0.078452</td>\n",
       "    </tr>\n",
       "    <tr>\n",
       "      <th>Appliances</th>\n",
       "      <td>3.710300</td>\n",
       "      <td>230.755710</td>\n",
       "      <td>38.922758</td>\n",
       "      <td>0.166524</td>\n",
       "    </tr>\n",
       "    <tr>\n",
       "      <th>Art</th>\n",
       "      <td>3.768844</td>\n",
       "      <td>34.068834</td>\n",
       "      <td>8.200737</td>\n",
       "      <td>0.074874</td>\n",
       "    </tr>\n",
       "    <tr>\n",
       "      <th>Binders</th>\n",
       "      <td>3.922521</td>\n",
       "      <td>133.560560</td>\n",
       "      <td>19.843574</td>\n",
       "      <td>0.372292</td>\n",
       "    </tr>\n",
       "    <tr>\n",
       "      <th>Bookcases</th>\n",
       "      <td>3.807018</td>\n",
       "      <td>503.859633</td>\n",
       "      <td>-15.230509</td>\n",
       "      <td>0.211140</td>\n",
       "    </tr>\n",
       "    <tr>\n",
       "      <th>Chairs</th>\n",
       "      <td>3.818476</td>\n",
       "      <td>532.332420</td>\n",
       "      <td>43.095894</td>\n",
       "      <td>0.170178</td>\n",
       "    </tr>\n",
       "    <tr>\n",
       "      <th>Copiers</th>\n",
       "      <td>3.441176</td>\n",
       "      <td>2198.941618</td>\n",
       "      <td>817.909190</td>\n",
       "      <td>0.161765</td>\n",
       "    </tr>\n",
       "    <tr>\n",
       "      <th>Envelopes</th>\n",
       "      <td>3.566929</td>\n",
       "      <td>64.867724</td>\n",
       "      <td>27.418019</td>\n",
       "      <td>0.080315</td>\n",
       "    </tr>\n",
       "    <tr>\n",
       "      <th>Fasteners</th>\n",
       "      <td>4.211982</td>\n",
       "      <td>13.936774</td>\n",
       "      <td>4.375660</td>\n",
       "      <td>0.082028</td>\n",
       "    </tr>\n",
       "    <tr>\n",
       "      <th>Furnishings</th>\n",
       "      <td>3.723093</td>\n",
       "      <td>95.825668</td>\n",
       "      <td>13.645918</td>\n",
       "      <td>0.138349</td>\n",
       "    </tr>\n",
       "    <tr>\n",
       "      <th>Labels</th>\n",
       "      <td>3.846154</td>\n",
       "      <td>34.303055</td>\n",
       "      <td>15.236962</td>\n",
       "      <td>0.068681</td>\n",
       "    </tr>\n",
       "    <tr>\n",
       "      <th>Machines</th>\n",
       "      <td>3.826087</td>\n",
       "      <td>1645.553313</td>\n",
       "      <td>29.432669</td>\n",
       "      <td>0.306087</td>\n",
       "    </tr>\n",
       "    <tr>\n",
       "      <th>Paper</th>\n",
       "      <td>3.779562</td>\n",
       "      <td>57.284092</td>\n",
       "      <td>24.856620</td>\n",
       "      <td>0.074891</td>\n",
       "    </tr>\n",
       "    <tr>\n",
       "      <th>Phones</th>\n",
       "      <td>3.699663</td>\n",
       "      <td>371.211534</td>\n",
       "      <td>50.073938</td>\n",
       "      <td>0.154556</td>\n",
       "    </tr>\n",
       "    <tr>\n",
       "      <th>Storage</th>\n",
       "      <td>3.732861</td>\n",
       "      <td>264.590553</td>\n",
       "      <td>25.152277</td>\n",
       "      <td>0.074704</td>\n",
       "    </tr>\n",
       "    <tr>\n",
       "      <th>Supplies</th>\n",
       "      <td>3.405263</td>\n",
       "      <td>245.650200</td>\n",
       "      <td>-6.258418</td>\n",
       "      <td>0.076842</td>\n",
       "    </tr>\n",
       "    <tr>\n",
       "      <th>Tables</th>\n",
       "      <td>3.890282</td>\n",
       "      <td>648.794771</td>\n",
       "      <td>-55.565771</td>\n",
       "      <td>0.261285</td>\n",
       "    </tr>\n",
       "  </tbody>\n",
       "</table>\n",
       "</div>"
      ],
      "text/plain": [
       "              Quantity        Sales      Profit  Discount\n",
       "Sub-Category                                             \n",
       "Accessories   3.840000   215.974604   54.111788  0.078452\n",
       "Appliances    3.710300   230.755710   38.922758  0.166524\n",
       "Art           3.768844    34.068834    8.200737  0.074874\n",
       "Binders       3.922521   133.560560   19.843574  0.372292\n",
       "Bookcases     3.807018   503.859633  -15.230509  0.211140\n",
       "Chairs        3.818476   532.332420   43.095894  0.170178\n",
       "Copiers       3.441176  2198.941618  817.909190  0.161765\n",
       "Envelopes     3.566929    64.867724   27.418019  0.080315\n",
       "Fasteners     4.211982    13.936774    4.375660  0.082028\n",
       "Furnishings   3.723093    95.825668   13.645918  0.138349\n",
       "Labels        3.846154    34.303055   15.236962  0.068681\n",
       "Machines      3.826087  1645.553313   29.432669  0.306087\n",
       "Paper         3.779562    57.284092   24.856620  0.074891\n",
       "Phones        3.699663   371.211534   50.073938  0.154556\n",
       "Storage       3.732861   264.590553   25.152277  0.074704\n",
       "Supplies      3.405263   245.650200   -6.258418  0.076842\n",
       "Tables        3.890282   648.794771  -55.565771  0.261285"
      ]
     },
     "execution_count": 145,
     "metadata": {},
     "output_type": "execute_result"
    }
   ],
   "source": [
    "#All numeric variables\n",
    "sales_data.groupby('Sub-Category').mean()\n"
   ]
  },
  {
   "cell_type": "code",
   "execution_count": 146,
   "metadata": {},
   "outputs": [
    {
     "name": "stdout",
     "output_type": "stream",
     "text": [
      "Sub-Category\n",
      "Accessories     215.974604\n",
      "Appliances      230.755710\n",
      "Art              34.068834\n",
      "Binders         133.560560\n",
      "Bookcases       503.859633\n",
      "Chairs          532.332420\n",
      "Copiers        2198.941618\n",
      "Envelopes        64.867724\n",
      "Fasteners        13.936774\n",
      "Furnishings      95.825668\n",
      "Labels           34.303055\n",
      "Machines       1645.553313\n",
      "Paper            57.284092\n",
      "Phones          371.211534\n",
      "Storage         264.590553\n",
      "Supplies        245.650200\n",
      "Tables          648.794771\n",
      "Name: Sales, dtype: float64\n"
     ]
    }
   ],
   "source": [
    "#write to new dataframe \n",
    "sales_data_group = sales_data.groupby('Sub-Category').Sales.mean()\n",
    "print(sales_data_group)"
   ]
  },
  {
   "cell_type": "markdown",
   "metadata": {},
   "source": [
    "# Sentiment\n"
   ]
  },
  {
   "cell_type": "code",
   "execution_count": 162,
   "metadata": {},
   "outputs": [],
   "source": [
    "#Define a list of sentences - which modd is each sentence?\n",
    "sentences = [\"Poul is nice\", \"Poul is an idiot\", \"today was a good  day\", \"you are cool\", \"great tool\"]"
   ]
  },
  {
   "cell_type": "code",
   "execution_count": 163,
   "metadata": {},
   "outputs": [],
   "source": [
    "#import vaderSentiment\n",
    "from vaderSentiment.vaderSentiment import SentimentIntensityAnalyzer"
   ]
  },
  {
   "cell_type": "code",
   "execution_count": 164,
   "metadata": {},
   "outputs": [
    {
     "data": {
      "text/plain": [
       "{'neg': 0.0, 'neu': 0.625, 'pos': 0.375, 'compound': 0.5574}"
      ]
     },
     "execution_count": 164,
     "metadata": {},
     "output_type": "execute_result"
    }
   ],
   "source": [
    "SentimentIntensityAnalyzer().polarity_scores('Today seems to be a fantastic day')"
   ]
  },
  {
   "cell_type": "code",
   "execution_count": 165,
   "metadata": {},
   "outputs": [
    {
     "data": {
      "text/plain": [
       "{'neg': 0.0, 'neu': 0.805, 'pos': 0.195, 'compound': 0.4404}"
      ]
     },
     "execution_count": 165,
     "metadata": {},
     "output_type": "execute_result"
    }
   ],
   "source": [
    "SentimentIntensityAnalyzer().polarity_scores(sentences)"
   ]
  },
  {
   "cell_type": "code",
   "execution_count": 166,
   "metadata": {},
   "outputs": [],
   "source": [
    "def sentiment(text_input):\n",
    "    output = []\n",
    "    analyzer = SentimentIntensityAnalyzer().polarity_scores\n",
    "    for i in text_input:\n",
    "        a = analyzer(i)['compound']\n",
    "        output.append(a)\n",
    "    return output\n",
    "    "
   ]
  },
  {
   "cell_type": "code",
   "execution_count": 167,
   "metadata": {},
   "outputs": [
    {
     "data": {
      "text/plain": [
       "[0.4215, -0.5106, 0.4404, 0.3182, 0.6249]"
      ]
     },
     "execution_count": 167,
     "metadata": {},
     "output_type": "execute_result"
    }
   ],
   "source": [
    "sentiment(sentences)"
   ]
  },
  {
   "cell_type": "code",
   "execution_count": null,
   "metadata": {},
   "outputs": [],
   "source": []
  }
 ],
 "metadata": {
  "kernelspec": {
   "display_name": "Python 3",
   "language": "python",
   "name": "python3"
  },
  "language_info": {
   "codemirror_mode": {
    "name": "ipython",
    "version": 3
   },
   "file_extension": ".py",
   "mimetype": "text/x-python",
   "name": "python",
   "nbconvert_exporter": "python",
   "pygments_lexer": "ipython3",
   "version": "3.8.2"
  },
  "toc": {
   "base_numbering": 1,
   "nav_menu": {},
   "number_sections": true,
   "sideBar": true,
   "skip_h1_title": false,
   "title_cell": "Table of Contents",
   "title_sidebar": "Contents",
   "toc_cell": false,
   "toc_position": {},
   "toc_section_display": true,
   "toc_window_display": false
  },
  "varInspector": {
   "cols": {
    "lenName": 16,
    "lenType": 16,
    "lenVar": 40
   },
   "kernels_config": {
    "python": {
     "delete_cmd_postfix": "",
     "delete_cmd_prefix": "del ",
     "library": "var_list.py",
     "varRefreshCmd": "print(var_dic_list())"
    },
    "r": {
     "delete_cmd_postfix": ") ",
     "delete_cmd_prefix": "rm(",
     "library": "var_list.r",
     "varRefreshCmd": "cat(var_dic_list()) "
    }
   },
   "types_to_exclude": [
    "module",
    "function",
    "builtin_function_or_method",
    "instance",
    "_Feature"
   ],
   "window_display": false
  }
 },
 "nbformat": 4,
 "nbformat_minor": 4
}
